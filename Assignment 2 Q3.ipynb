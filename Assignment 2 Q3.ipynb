{
 "cells": [
  {
   "cell_type": "code",
   "execution_count": 2,
   "id": "66f88b7d",
   "metadata": {},
   "outputs": [
    {
     "name": "stdout",
     "output_type": "stream",
     "text": [
      "Enter the temperature in Celsius: 16\n",
      "The temperature is in the normal range\n"
     ]
    }
   ],
   "source": [
    "try:\n",
    "    temperature = float(input(\"Enter the temperature in Celsius: \"))\n",
    "    \n",
    "    if temperature < -273.15:\n",
    "        print(\"The temperature is invalid because it is below absolute zero\")\n",
    "    elif temperature == -273.15:\n",
    "        print(\"The temperature is absolute 0\")\n",
    "    elif -273.15 < temperature < 0:\n",
    "        print(\"The temperature is below freezing\")\n",
    "    elif temperature == 0:\n",
    "        print(\"The temperature is at the freezing point\")\n",
    "    elif 0 < temperature < 100:\n",
    "        print(\"The temperature is in the normal range\")\n",
    "    elif temperature == 100:\n",
    "        print(\"The temperature is at the boiling point\")\n",
    "    else:\n",
    "        print(\"The temperature is above the boiling point\")\n",
    "        \n",
    "except ValueError:\n",
    "    print(\"Invalid input. Enter a valid temperature\")\n",
    "except Exception as e:\n",
    "    print(\"An error occurred: \", e)\n"
   ]
  },
  {
   "cell_type": "code",
   "execution_count": null,
   "id": "2de58148",
   "metadata": {},
   "outputs": [],
   "source": []
  }
 ],
 "metadata": {
  "kernelspec": {
   "display_name": "Python 3 (ipykernel)",
   "language": "python",
   "name": "python3"
  },
  "language_info": {
   "codemirror_mode": {
    "name": "ipython",
    "version": 3
   },
   "file_extension": ".py",
   "mimetype": "text/x-python",
   "name": "python",
   "nbconvert_exporter": "python",
   "pygments_lexer": "ipython3",
   "version": "3.10.9"
  }
 },
 "nbformat": 4,
 "nbformat_minor": 5
}
